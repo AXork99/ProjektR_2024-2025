{
 "cells": [
  {
   "cell_type": "code",
   "execution_count": 2,
   "metadata": {},
   "outputs": [],
   "source": [
    "import Vilim.graphs as g\n",
    "G = g.create_sample_map(2000)"
   ]
  },
  {
   "cell_type": "code",
   "execution_count": 1,
   "metadata": {},
   "outputs": [
    {
     "ename": "ModuleNotFoundError",
     "evalue": "No module named 'utils'",
     "output_type": "error",
     "traceback": [
      "\u001b[1;31m---------------------------------------------------------------------------\u001b[0m",
      "\u001b[1;31mModuleNotFoundError\u001b[0m                       Traceback (most recent call last)",
      "Cell \u001b[1;32mIn[1], line 1\u001b[0m\n\u001b[1;32m----> 1\u001b[0m \u001b[38;5;28;01mimport\u001b[39;00m \u001b[38;5;21;01mVilim\u001b[39;00m\u001b[38;5;21;01m.\u001b[39;00m\u001b[38;5;21;01mgraphs\u001b[39;00m \u001b[38;5;28;01mas\u001b[39;00m \u001b[38;5;21;01mg\u001b[39;00m\n\u001b[0;32m      2\u001b[0m G1 \u001b[38;5;241m=\u001b[39m g\u001b[38;5;241m.\u001b[39mget_map(\u001b[38;5;124m\"\u001b[39m\u001b[38;5;124msample_map\u001b[39m\u001b[38;5;124m\"\u001b[39m)\n\u001b[0;32m      4\u001b[0m g\u001b[38;5;241m.\u001b[39mKaFFPa(\n\u001b[0;32m      5\u001b[0m     G1, \n\u001b[0;32m      6\u001b[0m     k\u001b[38;5;241m=\u001b[39m\u001b[38;5;241m144\u001b[39m,\n\u001b[0;32m      7\u001b[0m     check_format\u001b[38;5;241m=\u001b[39m\u001b[38;5;28;01mFalse\u001b[39;00m\n\u001b[0;32m      8\u001b[0m )\n",
      "File \u001b[1;32mc:\\Users\\Korisnik\\Desktop\\ProjektR\\graph\\ProjektR_2024-2025\\Vilim\\graphs.py:8\u001b[0m\n\u001b[0;32m      6\u001b[0m \u001b[38;5;28;01mimport\u001b[39;00m \u001b[38;5;21;01msubprocess\u001b[39;00m\n\u001b[0;32m      7\u001b[0m \u001b[38;5;28;01mimport\u001b[39;00m \u001b[38;5;21;01mtime\u001b[39;00m\n\u001b[1;32m----> 8\u001b[0m \u001b[38;5;28;01mfrom\u001b[39;00m \u001b[38;5;21;01mutils\u001b[39;00m \u001b[38;5;28;01mimport\u001b[39;00m get_dir\n\u001b[0;32m     10\u001b[0m root \u001b[38;5;241m=\u001b[39m get_dir(\u001b[38;5;18m__file__\u001b[39m)\n\u001b[0;32m     12\u001b[0m \u001b[38;5;66;03m# KaHIP:\u001b[39;00m\n",
      "\u001b[1;31mModuleNotFoundError\u001b[0m: No module named 'utils'"
     ]
    }
   ],
   "source": [
    "import Vilim.graphs as g\n",
    "\n",
    "G1 = g.get_map(\"sample_map\")\n",
    "\n",
    "g.KaFFPa(\n",
    "    G1, \n",
    "    k=144,\n",
    "    check_format=False\n",
    ")\n",
    "\n",
    "g.print_map(G1, color=\"color\")"
   ]
  }
 ],
 "metadata": {
  "kernelspec": {
   "display_name": "base",
   "language": "python",
   "name": "python3"
  },
  "language_info": {
   "codemirror_mode": {
    "name": "ipython",
    "version": 3
   },
   "file_extension": ".py",
   "mimetype": "text/x-python",
   "name": "python",
   "nbconvert_exporter": "python",
   "pygments_lexer": "ipython3",
   "version": "3.12.3"
  }
 },
 "nbformat": 4,
 "nbformat_minor": 2
}
