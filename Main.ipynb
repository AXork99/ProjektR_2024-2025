{
 "cells": [
  {
   "cell_type": "code",
   "execution_count": 5,
   "id": "7760cd1c-d530-46b7-ab10-05f530c29a30",
   "metadata": {},
   "outputs": [],
   "source": [
    "import pandas as pd\n",
    "import numpy as np\n",
    "import glob\n",
    "\n",
    "file_path = 'data/*.xlsx'\n",
    "\n",
    "files = glob.glob(file_path)\n",
    "data = [\n",
    "    [(sheet, pd.ExcelFile(file).parse(sheet)) \n",
    "     for sheet in pd.ExcelFile(file).sheet_names\n",
    "    ] \n",
    "    for file in files\n",
    "]"
   ]
  },
  {
   "cell_type": "code",
   "execution_count": 133,
   "id": "50832cc4-06ae-4fc0-bc8f-4d060232a252",
   "metadata": {},
   "outputs": [],
   "source": [
    "class IJ:\n",
    "    def __init__ (self, data):\n",
    "        self.data = dict(data)\n",
    "        self.sheet_names, self.sheets = zip(*data)\n",
    "        self.selected = 0\n",
    "        \n",
    "    def __iter__ (self):\n",
    "        return iter(self.sheet_names)\n",
    "\n",
    "    def select(self, sheet):\n",
    "        for i in range(len(self.sheet_names)):\n",
    "            if (self.sheet_names[i] == sheet):\n",
    "                self.selected = i\n",
    "                return\n",
    "        raise Exception(\"No sheet by the name \" + sheet + \" sheet names are: \", self.sheet_names)\n",
    "        \n",
    "    def selecti(self, sheet):\n",
    "        if (sheet >= len(self.sheet_names)):\n",
    "            raise Exception(\"Index \", sheet, \" out of range for size \", len(self.sheet_names))\n",
    "        else:\n",
    "            self.selected = sheet\n",
    "            \n",
    "    def select_next(self, i=1):\n",
    "        self.selected = (self.selected + i) % len(self.sheet_names)\n",
    "    \n",
    "    def geti(self, indexes, i=None):\n",
    "        return self.get(i).iloc[:, indexes]\n",
    "        \n",
    "    def gett(self, tags, i=None):\n",
    "        return self.get(i)[tags]\n",
    "        \n",
    "    def get(self, i=None):\n",
    "        return self.sheets[self.selected if i is None else i]\n",
    "\n",
    "data2 = [IJ(d) for d in data]"
   ]
  },
  {
   "cell_type": "code",
   "execution_count": null,
   "id": "6e8f13c0-463e-42c5-8e61-5d5ce147653f",
   "metadata": {},
   "outputs": [],
   "source": []
  }
 ],
 "metadata": {
  "kernelspec": {
   "display_name": "Python [conda env:base] *",
   "language": "python",
   "name": "conda-base-py"
  },
  "language_info": {
   "codemirror_mode": {
    "name": "ipython",
    "version": 3
   },
   "file_extension": ".py",
   "mimetype": "text/x-python",
   "name": "python",
   "nbconvert_exporter": "python",
   "pygments_lexer": "ipython3",
   "version": "3.12.7"
  }
 },
 "nbformat": 4,
 "nbformat_minor": 5
}
